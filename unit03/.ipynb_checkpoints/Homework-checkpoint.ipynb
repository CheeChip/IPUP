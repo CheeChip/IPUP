{
 "cells": [
  {
   "cell_type": "markdown",
   "metadata": {
    "slideshow": {
     "slide_type": "-"
    }
   },
   "source": [
    "# Chapter 03\n",
    "\n",
    "\n",
    "## Exe 1\n",
    "题目：（几何学：计算五边形的面积）编写一个程序，提示用户输入五边形中心到顶点的距离 r，然后打印出五边形的面积。五边形的面积计算公式为\n",
    "$$\n",
    "Area = 5 \\times s \\times s / (4 \\times \\tan(\\pi / 5))\\\\\n",
    "s = 2r \\sin{\\frac{\\pi}{5}}\n",
    "$$\n",
    "其中，r 是顶点到中心的距离，s 是五边形的边长。"
   ]
  },
  {
   "cell_type": "code",
   "execution_count": 1,
   "metadata": {
    "scrolled": false,
    "slideshow": {
     "slide_type": "-"
    }
   },
   "outputs": [
    {
     "name": "stdout",
     "output_type": "stream",
     "text": [
      "Enter teh length from the center to a vertex: 5.5\n",
      "The area of the pentagon is 71.924\n"
     ]
    }
   ],
   "source": [
    "import math\n",
    "\n",
    "r = eval(input(\"Enter teh length from the center to a vertex: \"))\n",
    "\n",
    "s = 2 * r * math.sin(math.pi / 5)\n",
    "area = 5 * s * s / (4 * math.tan(math.pi / 5))\n",
    "\n",
    "print(\"The area of the pentagon is %.3f\" % (area))"
   ]
  },
  {
   "cell_type": "markdown",
   "metadata": {
    "slideshow": {
     "slide_type": "slide"
    }
   },
   "source": [
    "## Exe 2\n",
    "题目:（几何学：大圆距离）大圆距离是球面上两点之间的距离。 假定 (x1, y1) 和 (x2, y2) 是两点多的精度和维度，两点之间的大圆距离可以用下面的公式计算：\n",
    "$$\n",
    "d = radius \\times \\arccos(\\sin(x_1) \\times \\sin(x_2) + \\cos(x_1) \\times \\cos(x_2) \\times \\cos(y_1 - y_2))\n",
    "$$\n",
    "编写一个程序，提示用户输入地球表面两点的经度和维度然后显示他们的大圆距离。  \n",
    "地球的评价半径为 6371.01km 。公式中使用负数表示东经和南纬。"
   ]
  },
  {
   "cell_type": "code",
   "execution_count": 2,
   "metadata": {
    "slideshow": {
     "slide_type": "slide"
    }
   },
   "outputs": [
    {
     "name": "stdout",
     "output_type": "stream",
     "text": [
      "Enter point 1 (latitude and longitude) in degrees: 1, 1\n",
      "Enter point 2 (latitude and longitude) in degrees: 1, 1\n",
      "The distance between the two points is 0.000 km.\n"
     ]
    }
   ],
   "source": [
    "R = 6371.01\n",
    "x1, y1 = eval(input(\"Enter point 1 (latitude and longitude) in degrees: \"))\n",
    "x2, y2 = eval(input(\"Enter point 2 (latitude and longitude) in degrees: \"))\n",
    "x1 = math.radians(x1)\n",
    "y1 = math.radians(y1)\n",
    "x2 = math.radians(x2)\n",
    "y2 = math.radians(y2)\n",
    "\n",
    "temp = math.sin(x1) * math.sin(x2) + math.cos(x1) * math.cos(x2) * math.cos(y1-y2)\n",
    "dist = R * math.acos(temp)\n",
    "\n",
    "print(\"The distance between the two points is %.3f km.\" % (dist))"
   ]
  },
  {
   "cell_type": "markdown",
   "metadata": {
    "slideshow": {
     "slide_type": "slide"
    }
   },
   "source": [
    "## Exe 3\n",
    "题目：（几何学：估算面积）找到佐治亚州亚特兰大、弗罗里达州奥兰多、大草原佐治亚、北卡莱罗纳州夏洛特的 GPS 位置，然后计算出这四个城市所围成的区域的大概面积。  \n",
    "可以将该区域划分成两个（平面）三角形，然后使用海伦公式计算三角形面积。  \n",
    "海伦公式为：\n",
    "$$\n",
    "s = (side1 + side2 + side3) / 2 \\\\\n",
    "area = \\sqrt {s (s - side1) (s - side2) (s - side3)}\n",
    "$$\n",
    "在谷歌地图上查得：\n",
    "\n",
    "|城市 | 坐标 |\n",
    "| :-- | :--: |\n",
    "| 亚特兰大 | 33.73N, 84.42W|\n",
    "| 奥兰多| 28.42N, 81.37W|\n",
    "| 大草原乔治亚| 33.22N, 84.45W|\n",
    "| 夏洛特| 35.22N, 80.82W|"
   ]
  },
  {
   "cell_type": "code",
   "execution_count": 3,
   "metadata": {
    "slideshow": {
     "slide_type": "slide"
    }
   },
   "outputs": [
    {
     "name": "stdout",
     "output_type": "stream",
     "text": [
      "亚特兰大、奥兰多、大草原佐治亚和夏洛特围成的区域面积为 127066.885 km2\n"
     ]
    }
   ],
   "source": [
    "Atlanta = (33.72, 84.42)\n",
    "Orlando = (28.42, 81.37)\n",
    "Steppe  = (33.43, 84.45)\n",
    "Charlotte= (35.22, 80.82)\n",
    "\n",
    "def get_dist(p1, p2):\n",
    "    R = 6371.01\n",
    "    x1 = math.radians(p1[0])\n",
    "    y1 = math.radians(p1[1])\n",
    "    x2 = math.radians(p2[0])\n",
    "    y2 = math.radians(p2[1])\n",
    "    \n",
    "    temp = math.sin(x1) * math.sin(x2) + math.cos(x1) * math.cos(x2) * math.cos(y1-y2)\n",
    "    dist = R * math.acos(temp)\n",
    "    return dist\n",
    "\n",
    "def get_area(s1, s2, s3):\n",
    "    s = (s1 + s2 + s3) / 2\n",
    "    tmp = s * (s - s1) * (s - s2) * (s - s3)\n",
    "    area = math.sqrt(tmp)\n",
    "    return area\n",
    "\n",
    "d_AO = get_dist(Atlanta, Orlando)\n",
    "d_AS = get_dist(Atlanta, Steppe)\n",
    "d_SO = get_dist(Steppe, Orlando)\n",
    "d_AC = get_dist(Atlanta, Charlotte)\n",
    "d_OC = get_dist(Orlando, Charlotte)\n",
    "\n",
    "area = get_area(d_AO, d_AS, d_SO) + get_area(d_AO, d_OC, d_AC)\n",
    "print(\"亚特兰大、奥兰多、大草原佐治亚和夏洛特围成的区域面积为 %.3f km2\" % (area))"
   ]
  },
  {
   "cell_type": "markdown",
   "metadata": {
    "slideshow": {
     "slide_type": "slide"
    }
   },
   "source": [
    "## Exe 4\n",
    "题目：（几何学：五边形的面积）五边形的面积为\n",
    "$$\n",
    "Area = \\frac {5 \\times s^2} {4 \\times \\tan \\left( \\frac{\\pi}{5} \\right) }\n",
    "$$\n",
    "其中，$s$是边长。  \n",
    "\n",
    "编写一个程序，提示用户输入五边形的边长，然后显示出该五角星的面积。"
   ]
  },
  {
   "cell_type": "code",
   "execution_count": 4,
   "metadata": {
    "slideshow": {
     "slide_type": "slide"
    }
   },
   "outputs": [
    {
     "name": "stdout",
     "output_type": "stream",
     "text": [
      "Enter the side: 5.5\n",
      "The area of the pentagon is 52.044\n"
     ]
    }
   ],
   "source": [
    "s = eval(input(\"Enter the side: \"))\n",
    "area = 5 * s * s / (4 * math.tan(math.pi / 5))\n",
    "print(\"The area of the pentagon is %.3f\" % (area))"
   ]
  },
  {
   "cell_type": "markdown",
   "metadata": {
    "slideshow": {
     "slide_type": "slide"
    }
   },
   "source": [
    "## Exe 5\n",
    "题目：（几何学：正多边形的面积）正多边形的面积公式为\n",
    "$$\n",
    "Area = \\frac {n \\times s^2} {4 \\times \\tan{\\left( \\frac {\\pi} {n} \\right)} }\n",
    "$$\n",
    "其中，$s$是边长。\n",
    "\n",
    "编写一个程序，提示用户输入边数以及边长，然后显示它的面积。"
   ]
  },
  {
   "cell_type": "code",
   "execution_count": 7,
   "metadata": {
    "slideshow": {
     "slide_type": "slide"
    }
   },
   "outputs": [
    {
     "name": "stdout",
     "output_type": "stream",
     "text": [
      "Enter the number of sides: 7\n",
      "Enter the side: 5.5\n",
      "The area of the ploygen is 109.926\n"
     ]
    }
   ],
   "source": [
    "def get_area(n, s):\n",
    "    assert type(n) == int, \"The number of sides should be an integer\"\n",
    "    area = n * s * s / (4 * math.tan(math.pi / n))\n",
    "    return area\n",
    "\n",
    "n = eval(input(\"Enter the number of sides: \"))\n",
    "s = eval(input(\"Enter the side: \"))\n",
    "area = get_area(n, s)\n",
    "print(\"The area of the ploygen is %.3f\" % (area))"
   ]
  },
  {
   "cell_type": "markdown",
   "metadata": {},
   "source": [
    "# Exe 6\n",
    "题目：（找出 ASCII 码的字符）编写一个程序，收到一个 ASCII 码值（0~127之间的整数），然后显示它对应的字符。"
   ]
  },
  {
   "cell_type": "code",
   "execution_count": 8,
   "metadata": {},
   "outputs": [
    {
     "name": "stdout",
     "output_type": "stream",
     "text": [
      "Enter an ASCII code: 94\n",
      "The character is ^\n"
     ]
    }
   ],
   "source": [
    "code = int(input(\"Enter an ASCII code: \"))\n",
    "print(\"The character is %s\" % (chr(code)))"
   ]
  },
  {
   "cell_type": "markdown",
   "metadata": {},
   "source": [
    "## Exe 7\n",
    "题目：（随机字符）编写一个程序，使用 `time.time()` 函数显示一个大写的随机字符。"
   ]
  },
  {
   "cell_type": "code",
   "execution_count": 15,
   "metadata": {
    "scrolled": true
   },
   "outputs": [
    {
     "name": "stdout",
     "output_type": "stream",
     "text": [
      "C\n",
      "L\n",
      "E\n",
      "F\n",
      "K\n"
     ]
    }
   ],
   "source": [
    "import time\n",
    "def rand_capital():\n",
    "    s = int(time.time() * 1e6)\n",
    "    return chr(65 + s % 26)\n",
    "for i in range(5):\n",
    "    print(rand_capital())\n",
    "    time.sleep(0.1)"
   ]
  },
  {
   "cell_type": "markdown",
   "metadata": {},
   "source": [
    "## Exe 8\n",
    "题目：（金融应用程序：货币单元）改下程序清单 3-4，修正将浮点数转换成整数的过程中带来的精度损失。输入一个整数，它的后两位数字代表美分。例如输入 1156 ，代表 11 美元 56 美分。"
   ]
  },
  {
   "cell_type": "code",
   "execution_count": 3,
   "metadata": {},
   "outputs": [
    {
     "name": "stdout",
     "output_type": "stream",
     "text": [
      "Enter an amount (e.g., 1156 for 11.56): 100\n",
      "Your amount is 100 consists of\n",
      " \t 1 dollors\n",
      " \t 0 quarters\n",
      " \t 0 dimes\n",
      " \t 0 nickels\n",
      " \t 0 pennies.\n"
     ]
    }
   ],
   "source": [
    "amount = eval(input(\"Enter an amount (e.g., 1156 for 11.56): \"))\n",
    "\n",
    "dollars = amount // 100\n",
    "remaining = amount % 100\n",
    "\n",
    "quarters = remaining // 25\n",
    "remaining = remaining % 25\n",
    "\n",
    "dimes = remaining // 10\n",
    "remaining = remaining % 10\n",
    "\n",
    "nickels = remaining // 5\n",
    "remaining = remaining % 5\n",
    "\n",
    "pennies = remaining\n",
    "\n",
    "print(\"Your amount is\", amount, \"consists of\\n\",\n",
    "     \"\\t\", dollars, \"dollors\\n\",\n",
    "     \"\\t\", quarters, \"quarters\\n\",\n",
    "     \"\\t\", dimes, \"dimes\\n\",\n",
    "     \"\\t\", nickels, \"nickels\\n\",\n",
    "     \"\\t\", pennies, \"pennies.\")"
   ]
  },
  {
   "cell_type": "markdown",
   "metadata": {},
   "source": [
    "## Exe 9\n",
    "题目：（金融应用程序：工资表）编写一个程序，读取下面的信息，然后打印一份工资报表。\n",
    "\n",
    "雇员姓名（例如：史密斯）<br />\n",
    "一周工作时间（例如：10）<br />\n",
    "每小时报酬（例如：9.75）<br />\n",
    "联邦预扣税率（例如：20%）<br />\n",
    "州预扣税率（例如：9%）"
   ]
  },
  {
   "cell_type": "code",
   "execution_count": 6,
   "metadata": {},
   "outputs": [
    {
     "name": "stdout",
     "output_type": "stream",
     "text": [
      "Enter employee's name: Smith\n",
      "Enter numbers of hours worked in a week: 10\n",
      "Enter hourly pay rate: 9.75\n",
      "Enter faderal tax withholding rate: 0.20\n",
      "Enter state tax withholding rate: 0.09\n",
      "\n",
      "Employee Name: Smith     \n",
      "Hours Worked: 10.00\n",
      "Pay Rate:  9.75\n",
      "Gross Pay: 97.50\n",
      "Deductions:\n",
      "  Federal Withholding (20.00%): $19.50\n",
      "  State Withholding (9.00%): $8.78\n",
      "  Total Deductions: $28.27\n",
      "Net Pay: $69.22\n"
     ]
    }
   ],
   "source": [
    "name = input(\"Enter employee's name: \")\n",
    "hours = eval(input(\"Enter numbers of hours worked in a week: \"))\n",
    "pay = eval(input(\"Enter hourly pay rate: \"))\n",
    "federal_tax_rate = eval(input(\"Enter faderal tax withholding rate: \"))\n",
    "state_tax_rate = eval(input(\"Enter state tax withholding rate: \"))\n",
    "\n",
    "gross_pay = pay * hours\n",
    "federal_tax = gross_pay * federal_tax_rate\n",
    "state_tax = gross_pay * state_tax_rate\n",
    "deduction = federal_tax + state_tax\n",
    "net_pay = gross_pay - deduction\n",
    "\n",
    "print(\"\\nEmployee Name: \" + format(name, \"10s\"))\n",
    "print(\"Hours Worked: \" + format(hours, \"4.2f\"))\n",
    "print(\"Pay Rate: \" + format(pay, \"5.2f\"))\n",
    "print(\"Gross Pay: \" + format(gross_pay, \"4.2f\"))\n",
    "print(\"Deductions:\")\n",
    "print(\"  Federal Withholding (\" + format(federal_tax_rate, \".2%\") \n",
    "      +\"): $\" + format(federal_tax, \".2f\"))\n",
    "print(\"  State Withholding (\" + format(state_tax_rate, \".2%\") \n",
    "      +\"): $\" + format(state_tax, \".2f\"))\n",
    "print(\"  Total Deductions: $\" + format(deduction, \".2f\"))\n",
    "print(\"Net Pay: $\" + format(net_pay, \".2f\"))"
   ]
  },
  {
   "cell_type": "markdown",
   "metadata": {},
   "source": [
    "## Exe 10\n",
    "题目：（显示统一字符）编写一个程序，显示希腊字母 $\\alpha\\beta\\gamma\\delta\\varepsilon\\xi\\eta\\theta$，这些字符的统一码是 `\\u03b1 \\u03b2 \\u03b3 \\u03b4 \\u03b5 \\u03b6 \\u03b7 \\u03b8`。"
   ]
  },
  {
   "cell_type": "code",
   "execution_count": 8,
   "metadata": {},
   "outputs": [
    {
     "name": "stdout",
     "output_type": "stream",
     "text": [
      "α β γ δ ε ζ η θ\n"
     ]
    }
   ],
   "source": [
    "print(\"\\u03b1 \\u03b2 \\u03b3 \\u03b4 \\u03b5 \\u03b6 \\u03b7 \\u03b8\")"
   ]
  },
  {
   "cell_type": "markdown",
   "metadata": {},
   "source": [
    "# Exe 11\n",
    "题目：（反向数字）编写一个程序，提示用户输入一个四位整数，然后显示颠倒各位数字后的数。"
   ]
  },
  {
   "cell_type": "code",
   "execution_count": 13,
   "metadata": {},
   "outputs": [
    {
     "name": "stdout",
     "output_type": "stream",
     "text": [
      "Enter an integer: 1234\n",
      "The reversed number is 4321\n"
     ]
    }
   ],
   "source": [
    "num = int(input(\"Enter an integer: \"))\n",
    "res = 0\n",
    "\n",
    "while num > 0:\n",
    "    res = res * 10 + num % 10\n",
    "    num //= 10\n",
    "print(\"The reversed number is\", res)"
   ]
  },
  {
   "cell_type": "markdown",
   "metadata": {},
   "source": [
    "## Exe 12\n",
    "题目：（Turtle：绘制一个五角星）编写一个程序，提示用户输入五角星的边长，然后绘制一个五角星。\n",
    "\n",
    "因为 Turtle 在 notebook 里运行得不是很好，所以就直接贴代码吧。\n",
    "\n",
    "``` python\n",
    "import turtle as t\n",
    "\n",
    "t.screensize(1920, 1080)\n",
    "side = eval(input(\"Enter teh side of star: \"))\n",
    "for i in range(5):\n",
    "    t.forward(side)\n",
    "    t.right(144)\n",
    "t.done()\n",
    "```"
   ]
  },
  {
   "cell_type": "markdown",
   "metadata": {},
   "source": [
    "## Exe 13\n",
    "题目：（Turtle：显示一个 STOP 牌）编写一个程序，显示一个 STOP 牌。六边形是红色的，文字是白色的。\n",
    "\n",
    "**代码**：\n",
    "``` python\n",
    "import turtle as t\n",
    "import math\n",
    "t.screensize(1920, 1080)\n",
    "t.color(\"red\")\n",
    "t.fillcolor(\"red\")\n",
    "t.left(30)\n",
    "t.begin_fill()\n",
    "t.circle(200, steps=6)\n",
    "t.end_fill()\n",
    "t.penup()\n",
    "t.goto(-200, 75 * math.sqrt(3))\n",
    "t.color(\"white\")\n",
    "t.write(\"STOP\", font=(\"Times\", 65, \"bold\"))\n",
    "t.hideturtle()\n",
    "t.done()\n",
    "```"
   ]
  },
  {
   "cell_type": "markdown",
   "metadata": {},
   "source": [
    "## Exe 14\n",
    "题目：（Turtle：绘制一个奥运五环标志）编写一个程序，提示用户输入环的半径，然后画出大小相等的五环，颜色依次为蓝、黑、红、黄、绿。\n",
    "\n",
    "**代码**：\n",
    "``` python\n",
    "import turtle as t\n",
    "\n",
    "t.screensize(1920, 1080)\n",
    "\n",
    "radius = eval(input(\"Enter the radius of the Five-Rings: \"))\n",
    "t.pensize(radius / 5)\n",
    "\n",
    "t.penup()\n",
    "t.goto(-2.4 *radius, 0)\n",
    "t.pendown()\n",
    "t.color(\"blue\")\n",
    "t.circle(radius)\n",
    "\n",
    "t.penup()\n",
    "t.goto(0, 0)\n",
    "t.pendown()\n",
    "t.color(\"black\")\n",
    "t.circle(radius)\n",
    "\n",
    "t.penup()\n",
    "t.goto(2.4 * radius, 0)\n",
    "t.pendown()\n",
    "t.color(\"red\")\n",
    "t.circle(radius)\n",
    "\n",
    "t.penup()\n",
    "t.goto(-1.2 * radius, -1 * radius)\n",
    "t.pendown()\n",
    "t.color(\"yellow\")\n",
    "t.circle(radius)\n",
    "\n",
    "t.penup()\n",
    "t.goto(1.2 * radius, -1 * radius)\n",
    "t.pendown()\n",
    "t.color(\"green\")\n",
    "t.circle(radius)\n",
    "\n",
    "t.done()\n",
    "```"
   ]
  },
  {
   "cell_type": "markdown",
   "metadata": {},
   "source": [
    "## Exe 15\n",
    "题目：（Turtle：绘制一个笑脸）编写一个程序，绘制一个笑脸\n",
    "\n",
    "**代码**：\n",
    "``` python\n",
    "import turtle as t\n",
    "t.screensize(1920, 1080)\n",
    "t.speed(10)\n",
    "t.penup()\n",
    "t.goto(0, -200)\n",
    "t.pendown()\n",
    "t.circle(200)\n",
    "t.penup()\n",
    "t.goto(0, 30)\n",
    "t.pendown()\n",
    "t.circle(-70, steps=3)\n",
    "\n",
    "t.penup()\n",
    "t.goto(90, 75)\n",
    "t.dot(60)\n",
    "t.goto(-90, 75)\n",
    "t.dot(60)\n",
    "t.goto(-110, -75)\n",
    "t.pendown()\n",
    "t.goto(0, -130)\n",
    "t.goto(110, -75)\n",
    "t.done()\n",
    "```"
   ]
  },
  {
   "cell_type": "markdown",
   "metadata": {},
   "source": [
    "## Exe 16\n",
    "题目：（Turtle：绘制图像）编写一个程序，绘制一个三角形、一个正方形、一个五边形、一个六边形和一个八边形。\n",
    "\n",
    "**代码**：\n",
    "``` python\n",
    "import turtle as t\n",
    "t.screensize(1920, 1080)\n",
    "t.speed(10)\n",
    "t.pensize(3)\n",
    "t.hideturtle()\n",
    "\n",
    "t.penup()\n",
    "t.goto(-200, -50)\n",
    "t.pendown()\n",
    "t.color(\"blue\")\n",
    "t.begin_fill()\n",
    "t.right(180 / 3)\n",
    "t.circle(40, steps=3)\n",
    "t.end_fill()\n",
    "\n",
    "t.penup()\n",
    "t.goto(-100, -50)\n",
    "t.pendown()\n",
    "t.color(\"black\")\n",
    "t.begin_fill()\n",
    "t.setheading(0)\n",
    "t.right(180 / 4)\n",
    "t.circle(40, steps=4)\n",
    "t.end_fill()\n",
    "\n",
    "t.penup()\n",
    "t.goto(0, -50)\n",
    "t.pendown()\n",
    "t.color(\"red\")\n",
    "t.begin_fill()\n",
    "t.setheading(0)\n",
    "t.right(180 / 5)\n",
    "t.circle(40, steps=5)\n",
    "t.end_fill()\n",
    "\n",
    "t.penup()\n",
    "t.goto(100, -50)\n",
    "t.pendown()\n",
    "t.color(\"yellow\")\n",
    "t.begin_fill()\n",
    "t.setheading(0)\n",
    "t.right(180 / 6)\n",
    "t.circle(40, steps=6)\n",
    "t.end_fill()\n",
    "\n",
    "t.penup()\n",
    "t.goto(200, -50)\n",
    "t.pendown()\n",
    "t.color(\"green\")\n",
    "t.begin_fill()\n",
    "t.setheading(0)\n",
    "t.right(180 / 8)\n",
    "t.circle(40, steps=8)\n",
    "t.end_fill()\n",
    "\n",
    "t.penup()\n",
    "t.goto(-100, 50)\n",
    "t.color(\"red\")\n",
    "t.write(\"Cool Colorful Shapes\", font = (\"Times\", 22, \"normal\"))\n",
    "\n",
    "t.done()\n",
    "```"
   ]
  },
  {
   "cell_type": "markdown",
   "metadata": {},
   "source": [
    "## Exe 17\n",
    "题目：（Turtle：三角形面积）编写一个程序，提示用户输入三角形的三点：p1, p2, p3，然后在三点的下面显示三角形的面积。\n",
    "\n",
    "``` python\n",
    "import turtle as t\n",
    "import math\n",
    "t.screensize(1920, 1080)\n",
    "t.speed(10)\n",
    "\n",
    "def get_dist(x1, y1, x2, y2):\n",
    "    tmp = (x1 - x2) ** 2 + (y1 - y2) ** 2\n",
    "    dist = math.sqrt(tmp)\n",
    "    return dist\n",
    "\n",
    "def get_area(s1, s2, s3):\n",
    "    s = (s1 + s2 + s3) / 2\n",
    "    tmp = s * (s - s1) * (s - s2) * (s - s3)\n",
    "    area = math.sqrt(tmp)\n",
    "    return area\n",
    "\n",
    "def lowest_point(*p):\n",
    "    lp = p[0]\n",
    "    for point in p:\n",
    "        if point[1] < lp[1]:\n",
    "            lp = point\n",
    "    return lp\n",
    "\n",
    "p1 = tuple(eval(input(\"输入第 1 个点的坐标：\")))\n",
    "p2 = tuple(eval(input(\"输入第 2 个点的坐标：\")))\n",
    "p3 = tuple(eval(input(\"输入第 3 个点的坐标：\")))\n",
    "\n",
    "s1 = get_dist(*p1, *p2)\n",
    "s2 = get_dist(*p2, *p3)\n",
    "s3 = get_dist(*p3, *p1)\n",
    "\n",
    "area = get_area(s1, s2, s3)\n",
    "l_point = lowest_point(p1, p2, p3)\n",
    "\n",
    "t.penup()\n",
    "t.goto(*p1)\n",
    "t.pendown()\n",
    "t.goto(*p2)\n",
    "t.goto(*p3)\n",
    "t.goto(*p1)\n",
    "t.hideturtle()\n",
    "t.penup()\n",
    "t.write(\"p1 \" + str(p1), font=('Times', 10, 'normal'))\n",
    "t.goto(*p2)\n",
    "t.write(\"p2 \" + str(p2), p2, font=('Times', 10, 'normal'))\n",
    "t.goto(*p3)\n",
    "t.write(\"p3 \" + str(p3), p3, font=('Times', 10, 'normal'))\n",
    "t.goto(*l_point)\n",
    "t.setheading(-90)\n",
    "t.forward(20)\n",
    "t.write(\"The area of the triangle is \" + format(area, \".2f\"),\n",
    "    font=('Times', 10, 'bold'))\n",
    "\n",
    "t.done()\n",
    "```"
   ]
  },
  {
   "cell_type": "markdown",
   "metadata": {},
   "source": [
    "## Exe 18\n",
    "题目：（Turtle：三角形的角）修改程序清单3-2，编写一个程序，提示用户输入三个点，然后显示三角形三个角的角度。\n",
    "\n",
    "**代码**：\n",
    "``` python\n",
    "import turtle as t\n",
    "import math\n",
    "t.screensize(1920, 1080)\n",
    "t.speed(10)\n",
    "\n",
    "def get_dist(x1, y1, x2, y2):\n",
    "    tmp = (x1 - x2) ** 2 + (y1 - y2) ** 2\n",
    "    dist = math.sqrt(tmp)\n",
    "    return dist\n",
    "\n",
    "def get_area(s1, s2, s3):\n",
    "    s = (s1 + s2 + s3) / 2\n",
    "    tmp = s * (s - s1) * (s - s2) * (s - s3)\n",
    "    area = math.sqrt(tmp)\n",
    "    return area\n",
    "\n",
    "\n",
    "p1 = tuple(eval(input(\"输入第 1 个点的坐标：\")))\n",
    "p2 = tuple(eval(input(\"输入第 2 个点的坐标：\")))\n",
    "p3 = tuple(eval(input(\"输入第 3 个点的坐标：\")))\n",
    "\n",
    "c = get_dist(*p1, *p2)\n",
    "a = get_dist(*p2, *p3)\n",
    "b = get_dist(*p3, *p1)\n",
    "\n",
    "A = math.acos((a * a - b * b - c * c) / (-2 * b * c))\n",
    "B = math.acos((b * b - a * a - c * c) / (-2 * a * c))\n",
    "C = math.acos((c * c - b * b - a * a) / (-2 * a * b))\n",
    "A = math.degrees(A)\n",
    "B = math.degrees(B)\n",
    "C = math.degrees(C)\n",
    "f = ('Times', 10, 'normal')\n",
    "t.penup()\n",
    "t.goto(*p1)\n",
    "t.pendown()\n",
    "t.goto(*p2)\n",
    "t.goto(*p3)\n",
    "t.goto(*p1)\n",
    "t.hideturtle()\n",
    "t.penup()\n",
    "t.write(\"A \" + format(A, \".2f\") + '\\u00b0', font=f)\n",
    "t.goto(*p2)\n",
    "t.write(\"B \" + format(B, \".2f\") + '\\u00b0', font=f)\n",
    "t.goto(*p3)\n",
    "t.write(\"C \" + format(C, \".2f\") + '\\u00b0', font=f)\n",
    "\n",
    "t.done()\n",
    "```"
   ]
  },
  {
   "cell_type": "markdown",
   "metadata": {},
   "source": [
    "## Exe 19\n",
    "题目：（Turtle：绘制一条线段）编写一个程序，然后绘制一条连接两点的线段，并分别显示两点的坐标。\n",
    "\n",
    "**代码**：\n",
    "``` python\n",
    "import turtle as t\n",
    "import math\n",
    "t.screensize(1920, 1080)\n",
    "t.speed(10)\n",
    "t.pensize(3)\n",
    "f = ('Times', 10, 'normal')\n",
    "\n",
    "p1 = tuple(eval(input(\"输入第 1 个点的坐标：\")))\n",
    "p2 = tuple(eval(input(\"输入第 2 个点的坐标：\")))\n",
    "\n",
    "t.penup()\n",
    "t.goto(*p1)\n",
    "t.pendown()\n",
    "t.goto(*p2)\n",
    "t.penup()\n",
    "t.goto(*p1)\n",
    "t.write(\"p1 \" + str(p1), font=f)\n",
    "t.goto(*p2)\n",
    "t.write(\"p2 \" + str(p2), font=f)\n",
    "t.hideturtle()\n",
    "\n",
    "t.done()\n",
    "```"
   ]
  }
 ],
 "metadata": {
  "kernelspec": {
   "display_name": "Python 3",
   "language": "python",
   "name": "python3"
  },
  "language_info": {
   "codemirror_mode": {
    "name": "ipython",
    "version": 3
   },
   "file_extension": ".py",
   "mimetype": "text/x-python",
   "name": "python",
   "nbconvert_exporter": "python",
   "pygments_lexer": "ipython3",
   "version": "3.7.3"
  }
 },
 "nbformat": 4,
 "nbformat_minor": 2
}
