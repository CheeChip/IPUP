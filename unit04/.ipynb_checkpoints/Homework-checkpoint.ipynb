{
 "cells": [
  {
   "cell_type": "markdown",
   "metadata": {},
   "source": [
    "# Chapter 04\n",
    "## Exe 01\n",
    "题目：（代数方面：解一元二次方程）$ax^2 + bx + c = 0$ 的解可以使用下面的公式获取\n",
    "$$\n",
    "r_1 = \\frac {-b + \\sqrt{b^2 - 4ac}} {2a},\n",
    "r_2 = \\frac {-b - \\sqrt{b^2 - 4ac}} {2a}\n",
    "$$\n",
    "其中 $\\Delta = b^2 - 4ac$ 被称为二次方程的辨别式。若 $\\Delta$ 为正，则方程有两个根；若 $\\Delta$ 为 0 ，则有一个根；否则，没有实根。\n",
    "\n",
    "编写一个程序，提示用户输入 $a$、$b$ 和 $c$ 的值，然后显示方程的根。"
   ]
  },
  {
   "cell_type": "code",
   "execution_count": 2,
   "metadata": {},
   "outputs": [
    {
     "name": "stdout",
     "output_type": "stream",
     "text": [
      "Enter a, b, c: 1, 2, 1\n",
      "The root is -1.000.\n"
     ]
    }
   ],
   "source": [
    "import math\n",
    "\n",
    "a, b, c = eval(input(\"Enter a, b, c: \"))\n",
    "\n",
    "delta = b ** b - 4 * a * c\n",
    "\n",
    "if delta < 0:\n",
    "    print(\"The equation has no roots.\")\n",
    "elif delta == 0:\n",
    "    r = -b / 2*a\n",
    "    print(\"The root is %.3f\" % (r))\n",
    "else:\n",
    "    r1 = (-b + math.sqrt(delta)) / (2*a)\n",
    "    r2 = (-b - math.sqrt(delta)) / (2*a)\n",
    "    print(\"The roots are %.3f and %.3f\" % (r1, r2))"
   ]
  },
  {
   "cell_type": "markdown",
   "metadata": {},
   "source": [
    "## Exe 02\n",
    "题目：（游戏：三个数相加）程序清单 4-1 中的程序产生两个整数，然后提示用户输入这两个整数的和。修改这个程序产生三个一位整数，提示用户输入这三个整数的和。"
   ]
  },
  {
   "cell_type": "code",
   "execution_count": 8,
   "metadata": {},
   "outputs": [
    {
     "name": "stdout",
     "output_type": "stream",
     "text": [
      "What is 0 + 4 + 9? 10\n",
      "0 + 4 + 9 = 10 is False\n"
     ]
    }
   ],
   "source": [
    "import random\n",
    "\n",
    "n1 = random.randrange(10)\n",
    "n2 = random.randrange(10)\n",
    "n3 = random.randrange(10)\n",
    "\n",
    "s = n1 + n2 + n3\n",
    "ans = int(input(\"What is %d + %d + %d? \" % (n1, n2, n3)))\n",
    "\n",
    "print(\"{0} + {1} + {2} = {3} is {4}\".format(n1, n2, n3, ans, s == ans))"
   ]
  },
  {
   "cell_type": "markdown",
   "metadata": {},
   "source": [
    "## Exe 03\n",
    "题目：（代数：解 $2 \\times 2$ 线性方程）你可以使用克莱姆法则解下面的线性方程 $2 \\times 2$ 系统：\n",
    "$$\n",
    "\\begin{array}{l}\n",
    "ax + by = e \\\\\n",
    "cx + dy = f\\\\\n",
    "\\end{array} \\quad\n",
    "x = \\frac {ed - bf} {ad - bc} \\quad\n",
    "y = \\frac {af - ec} {ad - bc}\n",
    "$$\n",
    "编写一个程序，提示用户输入 $a$、$b$、$c$、$d$、$e$和$f$，然后显示结果。如果 $ad-bc=0$，则显示无解。"
   ]
  },
  {
   "cell_type": "code",
   "execution_count": 11,
   "metadata": {
    "scrolled": true
   },
   "outputs": [
    {
     "name": "stdout",
     "output_type": "stream",
     "text": [
      "Enter a, b, c, d, e, f: 1, 2, 2, 4, 4, 5\n",
      "The equation has no solution.\n"
     ]
    }
   ],
   "source": [
    "a, b, c, d, e, f = eval(input(\"Enter a, b, c, d, e, f: \"))\n",
    "\n",
    "delta = a * d - b * c\n",
    "\n",
    "if delta == 0:\n",
    "    print(\"The equation has no solution.\")\n",
    "else:\n",
    "    x = (e * d - b * f) / delta\n",
    "    y = (a * f - e * c) / delta\n",
    "    print(\"x is {0:.2f} and y is {1:.2f}\".format(x, y))"
   ]
  },
  {
   "cell_type": "markdown",
   "metadata": {},
   "source": [
    "## Exe 04\n",
    "题目：（游戏：学习加法）编写一个程序产生两个 100 以下的整数，然后提示用户输入这两个整数的和。如果答案正确，程序报告结果为真，否则显示假。"
   ]
  },
  {
   "cell_type": "code",
   "execution_count": 16,
   "metadata": {},
   "outputs": [
    {
     "name": "stdout",
     "output_type": "stream",
     "text": [
      "Enter 26 + 80 = ? 106\n",
      "26 + 80 = 106 is True\n"
     ]
    }
   ],
   "source": [
    "import random\n",
    "n1 = random.randrange(100)\n",
    "n2 = random.randrange(100)\n",
    "s = n1 + n2\n",
    "ans = int(input(\"Enter {0} + {1} = ? \".format(n1, n2)))\n",
    "print(\"{0} + {1} = {2} is {3}\".format(n1, n2, ans, ans == s))"
   ]
  },
  {
   "cell_type": "markdown",
   "metadata": {},
   "source": [
    "## Exe 05\n",
    "题目：（找未来数据）编写程序提示用户输入表示今天是一周内哪一天的数字（星期天是 0，星期一是 1，&hellip;，星期六是 6）。还要提醒用书输入今天之后到未来某一天的天数，然后显示未来这天是星期几。"
   ]
  },
  {
   "cell_type": "code",
   "execution_count": 19,
   "metadata": {},
   "outputs": [
    {
     "name": "stdout",
     "output_type": "stream",
     "text": [
      "Enter today's day: 6\n",
      "Enter the number of days elapsed since today: 7\n",
      "Today is Saturday and the future day is Saturday.\n"
     ]
    }
   ],
   "source": [
    "def weekday(n):\n",
    "    weekdays = {0: \"Sunday\", 1: \"Monday\", 2: \"Tuesday\", 3: \"Wednesday\",\n",
    "                4: \"Thurday\", 5: \"Friday\", 6: \"Saturday\"}\n",
    "    return weekdays[n]\n",
    "\n",
    "today = int(input(\"Enter today's day: \"))\n",
    "future = int(input(\"Enter the number of days elapsed since today: \"))\n",
    "\n",
    "future = (today + future) % 7\n",
    "print(\"Today is {0} and the future day is {1}.\".format(weekday(today), weekday(future)))"
   ]
  },
  {
   "cell_type": "markdown",
   "metadata": {},
   "source": [
    "## Exe 06\n",
    "题目：（健康应用程序：BMI）修改程序清单 4-6 让用户输入磅表示用户体重，输入英尺英寸表示用户的身高。例如：一个人身高 5 英尺 10 英尺，就可以输入英尺 5 和 英寸 10。"
   ]
  },
  {
   "cell_type": "code",
   "execution_count": 24,
   "metadata": {},
   "outputs": [
    {
     "name": "stdout",
     "output_type": "stream",
     "text": [
      "Enter weight in pounds: 140\n",
      "Enter feet: 5\n",
      "Enter inches: 10\n",
      "BMI is 20.088\n",
      "You are Normal.\n"
     ]
    }
   ],
   "source": [
    "PD_TO_KG = 0.45359237\n",
    "IN_TO_M = 0.0254\n",
    "\n",
    "pounds = eval(input(\"Enter weight in pounds: \"))\n",
    "feet = eval(input(\"Enter feet: \"))\n",
    "inches = eval(input(\"Enter inches: \"))\n",
    "\n",
    "inches = 12 * feet + inches\n",
    "\n",
    "kgs = PD_TO_KG * pounds\n",
    "meters = IN_TO_M * inches\n",
    "\n",
    "BMI = kgs / (meters ** 2)\n",
    "\n",
    "print(\"BMI is {0:.3f}\".format(BMI))\n",
    "if BMI < 18.5:\n",
    "    print(\"You are Underweight.\")\n",
    "elif BMI < 25:\n",
    "    print(\"You are Normal.\")\n",
    "elif BMI < 30:\n",
    "    print(\"You are Overweight.\")\n",
    "else:\n",
    "    print(\"You are Obese.\")"
   ]
  },
  {
   "cell_type": "markdown",
   "metadata": {},
   "source": [
    "## Exe 07\n",
    "题目：（财务应用程序：货币单位）修改程序清单 3-4 为只显示非零面值的程序，单一的值用单数，如 1 dollar ；大于 1 的值用复数，如 2 pennies."
   ]
  },
  {
   "cell_type": "code",
   "execution_count": 28,
   "metadata": {},
   "outputs": [
    {
     "name": "stdout",
     "output_type": "stream",
     "text": [
      "Enter the amount of money (e.g., 1156 for 11.56): 1177\n",
      "Your amount is $11.77, which consists of\n",
      "  11 dollars\n",
      "  3 quarters\n",
      "  2 pennies\n"
     ]
    }
   ],
   "source": [
    "amount = int(input(\"Enter the amount of money (e.g., 1156 for 11.56): \"))\n",
    "\n",
    "dollars = amount // 100\n",
    "remaining = amount % 100\n",
    "\n",
    "quarters = remaining // 25\n",
    "remaining = remaining % 25\n",
    "\n",
    "dimes = remaining // 10\n",
    "remaining = remaining % 10\n",
    "\n",
    "nickels = remaining // 5\n",
    "pennies = remaining % 5\n",
    "\n",
    "print(\"Your amount is ${:.2f}, which consists of\".format(amount / 100))\n",
    "if (dollars != 0):\n",
    "    print(\"  {} {}\".format(dollars, \"dollar\" if dollars == 1 else \"dollars\"))\n",
    "if (quarters != 0):\n",
    "    print(\"  {} {}\".format(quarters, \"quarter\" if quarters == 1 else \"quarters\"))\n",
    "if (dimes != 0):\n",
    "    print(\"  {} {}\".format(dimes, \"dime\" if quarters == 1 else \"dimes\"))\n",
    "if (nickels != 0):\n",
    "    print(\"  {} {}\".format(nickels, \"nickel\" if nickels == 1 else \"nickels\"))\n",
    "if (pennies != 0):\n",
    "    print(\"  {} {}\".format(pennies, \"penny\" if pennies == 1 else \"pennies\"))"
   ]
  },
  {
   "cell_type": "markdown",
   "metadata": {},
   "source": [
    "## Exe 08\n",
    "题目：（对三个整数排序）编写一个程序提示用户输入三个整数，然后升序显示它们。"
   ]
  },
  {
   "cell_type": "code",
   "execution_count": 31,
   "metadata": {},
   "outputs": [
    {
     "name": "stdout",
     "output_type": "stream",
     "text": [
      "Enter three integers: -1, -9, 100\n",
      "Three numbers in increasing order: 100 -1 -9\n"
     ]
    }
   ],
   "source": [
    "a, b, c = eval(input(\"Enter three integers: \"))\n",
    "lst = [a, b, c]\n",
    "for i in range(len(lst) - 1):\n",
    "    for j in range(i, len(lst)):\n",
    "        if (lst[i] < lst[j]):\n",
    "            lst[i], lst[j] = lst[j], lst[i]\n",
    "print(\"Three numbers in increasing order: {} {} {}\".format(lst[0], lst[1], lst[2]))"
   ]
  },
  {
   "cell_type": "markdown",
   "metadata": {},
   "source": [
    "## Exe 09\n",
    "题目：（金融方面：比较价钱）假设你购买大米时发现它有两种包装。你会想编写一个程序比较这两种包装的价钱。程序提示用户输入每种包装的重量和价钱，然后显示买哪种包装更划算。"
   ]
  },
  {
   "cell_type": "code",
   "execution_count": 33,
   "metadata": {},
   "outputs": [
    {
     "name": "stdout",
     "output_type": "stream",
     "text": [
      "Enter weight and price for package 1: 50, 24.59\n",
      "Enter weight and price for package 2: 25, 11.99\n",
      "Package 2 has better price.\n"
     ]
    }
   ],
   "source": [
    "w1, p1 = eval(input(\"Enter weight and price for package 1: \"))\n",
    "w2, p2 = eval(input(\"Enter weight and price for package 2: \"))\n",
    "\n",
    "unit_price1 = p1 / w1\n",
    "unit_price2 = p2 / w2\n",
    "\n",
    "if (unit_price1 > unit_price2):\n",
    "    print(\"Package 2 has better price.\")\n",
    "elif (unit_price1 < unit_price2):\n",
    "    print(\"Package 1 has better price.\")\n",
    "else:\n",
    "    print(\"Two packages are fair.\")"
   ]
  },
  {
   "cell_type": "markdown",
   "metadata": {},
   "source": [
    "## Exe 10\n",
    "题目：（游戏：乘法测验）修改程序清单 4-4 随机产生两个小于 100 的整数的乘法。"
   ]
  },
  {
   "cell_type": "code",
   "execution_count": 37,
   "metadata": {},
   "outputs": [
    {
     "name": "stdout",
     "output_type": "stream",
     "text": [
      "Enter 55 x 84 = ? 4620\n",
      "55 x 84 = 4620 is True\n"
     ]
    }
   ],
   "source": [
    "import random\n",
    "n1 = random.randrange(100)\n",
    "n2 = random.randrange(100)\n",
    "\n",
    "m = n1 * n2\n",
    "ans = int(input(\"Enter {} x {} = ? \".format(n1, n2)))\n",
    "print(\"{} x {} = {} is {}\".format(n1, n2, ans, ans == m))"
   ]
  },
  {
   "cell_type": "markdown",
   "metadata": {},
   "source": [
    "## Exe 11\n",
    "题目：（找出一个月中的天数）编写一个程序，提示用户输入年和月，然后显示这个月的天数。"
   ]
  },
  {
   "cell_type": "code",
   "execution_count": 3,
   "metadata": {},
   "outputs": [
    {
     "name": "stdout",
     "output_type": "stream",
     "text": [
      "Enter year: 2020\n",
      "Enter month: 2\n",
      "Year 2020 Month 2 has 29 days.\n"
     ]
    }
   ],
   "source": [
    "year = int(input(\"Enter year: \"))\n",
    "month = int(input(\"Enter month: \"))\n",
    "\n",
    "def isleap(year):\n",
    "    if year % 400 == 0:\n",
    "        return True\n",
    "    elif year % 4 == 0 and year % 100 != 0:\n",
    "        return True\n",
    "    else:\n",
    "        return False\n",
    "    \n",
    "def getdays(month, year):\n",
    "    days = {1: 31, 2: 29 if isleap(year) else 28,\n",
    "           3: 31, 4: 30, 5: 31, 6: 30, 7: 31, 8: 31,\n",
    "           9: 30, 10: 31, 11: 30, 12: 31}\n",
    "    return days[month]\n",
    "\n",
    "print(\"Year {} Month {} has {} days.\".format(year, month, getdays(month, year)))"
   ]
  },
  {
   "cell_type": "markdown",
   "metadata": {},
   "source": [
    "## Exe 12\n",
    "题目：（检测一个数字）编写一个程序提示用户输入一个整数，然后检测该数字是否能被 5 和 6 都整除、内被 5 或 6 整除还是只被它们中的一个整除（但又不能被它们同时整除）。"
   ]
  },
  {
   "cell_type": "code",
   "execution_count": 5,
   "metadata": {},
   "outputs": [
    {
     "name": "stdout",
     "output_type": "stream",
     "text": [
      "Enter an integer: 30\n",
      "Is 30 divisible by 5 and 6? True\n",
      "Is 30 divisible by 5 or 6? True\n",
      "Is 30 divisible by 5 or 6, but not both? False.\n"
     ]
    }
   ],
   "source": [
    "n = int(input(\"Enter an integer: \"))\n",
    "print(\"Is {} divisible by 5 and 6? {}\".format(n, (n % 5 == 0 and n % 6 == 0)))\n",
    "print(\"Is {} divisible by 5 or 6? {}\".format(n, (n % 5 == 0 or n % 6 == 0)))\n",
    "print(\"Is {} divisible by 5 or 6, but not both? {}.\".format(n, (n % 5 == 0) ^ (n % 6 == 0)))"
   ]
  },
  {
   "cell_type": "markdown",
   "metadata": {},
   "source": [
    "## Exe 13\n",
    "题目：（财务应用程序：计算税款）程序 4-7 给出源代码计算单身报税人的税款。完善该程序给出其他纳税状态的程序。"
   ]
  },
  {
   "cell_type": "code",
   "execution_count": 1,
   "metadata": {},
   "outputs": [
    {
     "name": "stdout",
     "output_type": "stream",
     "text": [
      "status code:\n",
      "  1 -- single filer\n",
      "  2 -- married filing joinly\n",
      "  3 -- married filing separately\n",
      "  4 -- head of household\n",
      "Enter the filing status: 1\n",
      "Enter the taxable income: 400000\n",
      "Tax is 117683.50\n"
     ]
    }
   ],
   "source": [
    "import sys\n",
    "\n",
    "prompt_text = \"status code:\\n\" \\\n",
    "    \"  1 -- single filer\\n\" \\\n",
    "    \"  2 -- married filing joinly\\n\" \\\n",
    "    \"  3 -- married filing separately\\n\" \\\n",
    "    \"  4 -- head of household\\n\" \\\n",
    "    \"Enter the filing status: \"\n",
    "\n",
    "def single_filing(income):\n",
    "    tax = None\n",
    "    if income <= 8350:\n",
    "        tax = income * 0.1\n",
    "    elif income <= 33950:\n",
    "        tax = 8350 * 0.1 + (income - 8350) * 0.15\n",
    "    elif income <= 82250:\n",
    "        tax = 8350 * 0.1 + (33950 - 8350) * 0.15 + (income - 33950) * 0.25\n",
    "    elif income <= 171550:\n",
    "        tax = 8350 * 0.1 + (33950 - 8350) * 0.15 + (82250 - 33950) * 0.25 \\\n",
    "            + (income - 82250) * 0.28\n",
    "    elif income <= 372950:\n",
    "        tax = 8350 * 0.1 + (33950 - 8350) * 0.15 + (82250 - 33950) * 0.25 \\\n",
    "            + (171550 - 82250) * 0.28 + (income - 171550) * 0.33\n",
    "    else:\n",
    "        tax = 8350 * 0.1 + (33950 - 8350) * 0.15 + (82250 - 33950) * 0.25 \\\n",
    "            + (171550 - 82250) * 0.28 + (372950 - 171550) * 0.33 \\\n",
    "            + (income - 372950) * 0.35\n",
    "    return tax\n",
    "\n",
    "def married_join_filing(income):\n",
    "    tax = None\n",
    "    if income <= 16700:\n",
    "        tax = income * 0.1\n",
    "    elif income <= 67900:\n",
    "        tax = 16700 * 0.1 + (income - 16700) * 0.15\n",
    "    elif income <= 137050:\n",
    "        tax = 16700 * 0.1 + (67900 - 16700) * 0.15 + (income - 67900) * 0.25\n",
    "    elif income <= 208850:\n",
    "        tax = 16700 * 0.1 + (67900 - 16700) * 0.15 + (137050 - 67900) * 0.25 \\\n",
    "            + (income - 137050) * 0.28\n",
    "    elif income <= 372950:\n",
    "        tax = 16700 * 0.1 + (67900 - 16700) * 0.15 + (137050 - 67900) * 0.25 \\\n",
    "            + (208850 - 137050) * 0.28 + (income - 208851) * 0.33\n",
    "    else:\n",
    "        tax = 16700 * 0.1 + (67900 - 16700) * 0.15 + (137050 - 67900) * 0.25 \\\n",
    "            + (208850 - 137050) * 0.28 + (372950 - 208851) * 0.33 \\\n",
    "            + (income - 372950) * 0.35\n",
    "    return tax\n",
    "\n",
    "\n",
    "def married_sep_filing(income):\n",
    "    tax = None\n",
    "    if income <= 8350:\n",
    "        tax = income * 0.1\n",
    "    elif income <= 33950:\n",
    "        tax = 8350 * 0.1 + (income - 8350) * 0.15\n",
    "    elif income <= 68525:\n",
    "        tax = 8350 * 0.1 + (33950 - 8350) * 0.15 + (income - 33950) * 0.25\n",
    "    elif income <= 104425:\n",
    "        tax = 8350 * 0.1 + (33950 - 8350) * 0.15 + (68525 - 33950) * 0.25 \\\n",
    "            + (income - 68525) * 0.28\n",
    "    elif income <= 186475:\n",
    "        tax = 8350 * 0.1 + (33950 - 8350) * 0.15 + (68525 - 33950) * 0.25 \\\n",
    "            + (104425 - 68525) * 0.28 + (income - 104425) * 0.33\n",
    "    else:\n",
    "        tax = 8350 * 0.1 + (33950 - 8350) * 0.15 + (68525 - 33950) * 0.25 \\\n",
    "            + (104425 - 68525) * 0.28 + (186475 - 104425) * 0.33 \\\n",
    "            + (income - 186475) * 0.35\n",
    "    return tax\n",
    "\n",
    "def head_o_household(income):\n",
    "    tax = None\n",
    "    if income <= 11950:\n",
    "        tax = income * 0.1\n",
    "    elif income <= 45500:\n",
    "        tax = 11950 * 0.1 + (income - 11950) * 0.15\n",
    "    elif income <= 117450:\n",
    "        tax = 11950 * 0.1 + (45500 - 11950) * 0.15 + (income - 45500) * 0.25\n",
    "    elif income <= 190200:\n",
    "        tax = 11950 * 0.1 + (45500 - 11950) * 0.15 + (117450 - 45500) * 0.25 \\\n",
    "            + (income - 117450) * 0.28\n",
    "    elif income <= 372950:\n",
    "        tax = 11950 * 0.1 + (45500 - 11950) * 0.15 + (117450 - 45500) * 0.25 \\\n",
    "            + (190200 - 117450) * 0.28 + (income - 190200) * 0.33\n",
    "    else:\n",
    "        tax = 11950 * 0.1 + (45500 - 11950) * 0.15 + (117450 - 45500) * 0.25 \\\n",
    "            + (190200 - 117450) * 0.28 + (372950 - 190200) * 0.33 \\\n",
    "            + (income - 372950) * 0.35\n",
    "    return tax\n",
    "\n",
    "status = int(input(prompt_text))\n",
    "income = eval(input(\"Enter the taxable income: \"))\n",
    "tax = None\n",
    "\n",
    "if status == 1:\n",
    "    tax = single_filing(income)\n",
    "elif status == 2:\n",
    "    tax = married_join_filing(income)\n",
    "elif status == 3:\n",
    "    tax = married_sep_filing(income)\n",
    "elif status == 4:\n",
    "    tax = head_o_household(income)\n",
    "else:\n",
    "    print(\"Error: invalid status\")\n",
    "    sys.exit()\n",
    "\n",
    "print(\"Tax is {:.2f}\".format(tax))"
   ]
  },
  {
   "cell_type": "markdown",
   "metadata": {},
   "source": [
    "## Exe 14\n",
    "题目：（游戏：证明和反面）编写程序让用户输入一个抛出的硬币是正面还是反面。"
   ]
  },
  {
   "cell_type": "code",
   "execution_count": 5,
   "metadata": {},
   "outputs": [
    {
     "name": "stdout",
     "output_type": "stream",
     "text": [
      "Guess head or tail, 0 for head, 1 for tail: 0\n",
      "Right\n"
     ]
    }
   ],
   "source": [
    "import random\n",
    "\n",
    "coin = random.randint(0, 1)\n",
    "guess = int(input(\"Guess head or tail, 0 for head, 1 for tail: \"))\n",
    "if (coin == guess):\n",
    "    print(\"Right\")\n",
    "else:\n",
    "    print(\"Wrong\")"
   ]
  },
  {
   "cell_type": "markdown",
   "metadata": {},
   "source": [
    "## Exe 15\n",
    "题目：（游戏：彩票）改写程序清单 4-10 产生一个三位彩票数。提示用户输入一个三位整数，然后根据下面的规则判断用户是否赢得奖金。\n",
    "1. 如果用户输入的数和彩票数字完全匹配，包括数字顺序，那么奖金为 \\$10 000\n",
    "2. 如果用户输入的数字匹配彩票数字中的所有数字，那么奖金是 \\$3 000\n",
    "3. 如果用户输入的数字中的一个数匹配彩票数字中的一个数，那么奖金是 \\$1 000"
   ]
  },
  {
   "cell_type": "code",
   "execution_count": 24,
   "metadata": {},
   "outputs": [
    {
     "name": "stdout",
     "output_type": "stream",
     "text": [
      "Enter your lottery pick (pick): 258\n",
      "The lottery number is 500\n",
      "Match one digit: you win $1,000\n"
     ]
    }
   ],
   "source": [
    "import random\n",
    "\n",
    "lottery = random.randint(0, 999)\n",
    "lotteryDigit1 = lottery % 10\n",
    "lotteryDigit2 = lottery % 10 // 10\n",
    "lotteryDigit3 = lottery // 100\n",
    "\n",
    "guess = eval(input(\"Enter your lottery pick (pick): \"))\n",
    "guessDigit1 = guess % 10\n",
    "guessDigit2 = guess % 10 // 10\n",
    "guessDigit3 = guess // 100\n",
    "\n",
    "print(\"The lottery number is {:3d}\".format(lottery))\n",
    "if guess == lottery:\n",
    "    print(\"Exact match: you win $10,000\")\n",
    "elif set((lotteryDigit1, lotteryDigit2, lotteryDigit3)) == \\\n",
    "    set((guessDigit1, guessDigit2, guessDigit3)):\n",
    "    print(\"Match all digits: you win $3,000\")\n",
    "elif lotteryDigit1 in (guessDigit2, guessDigit3) or \\\n",
    "    lotteryDigit2 in (guessDigit1, guessDigit3) or \\\n",
    "    lotteryDigit3 in (guessDigit1, guessDigit2):\n",
    "    print(\"Match one digit: you win $1,000\")\n",
    "else:\n",
    "    print(\"Sorry, no match\")"
   ]
  },
  {
   "cell_type": "markdown",
   "metadata": {},
   "source": [
    "## Exe 16\n",
    "题目：（随机字符）编写程序显示一个随机大写字母。"
   ]
  },
  {
   "cell_type": "code",
   "execution_count": 14,
   "metadata": {},
   "outputs": [
    {
     "name": "stdout",
     "output_type": "stream",
     "text": [
      "R\n"
     ]
    }
   ],
   "source": [
    "import random\n",
    "\n",
    "print(chr(random.randint(65, 90)))\n",
    "# print(chr(random.randint(ord('A'), ord(\"Z\"))))"
   ]
  },
  {
   "cell_type": "markdown",
   "metadata": {},
   "source": [
    "## Exe 17\n",
    "题目：（游戏：石头剪刀布）编写一个程序来玩石头剪刀布的游戏。程序随机产生一个数字 0、1、2来表示剪刀、石头和布。提示用户输入数字0、1或2，然后再显示用户或计算机是输赢还是平局。"
   ]
  },
  {
   "cell_type": "code",
   "execution_count": 13,
   "metadata": {},
   "outputs": [
    {
     "name": "stdout",
     "output_type": "stream",
     "text": [
      "scissor (0), rock (1), paper (2): 2\n",
      "The computer is paper. You are paper too. It is a draw.\n"
     ]
    }
   ],
   "source": [
    "import random\n",
    "\n",
    "prompt_text = \"scissor (0), rock (1), paper (2): \"\n",
    "\n",
    "check_tab = {0 : 'scisor', 1 : 'rock', 2 : 'paper'}\n",
    "\n",
    "def iswin(pc, you):\n",
    "    '''\n",
    "    0 -- lose\n",
    "    1 -- draw\n",
    "    2 -- win\n",
    "    '''\n",
    "    res = None\n",
    "    if you == 0:\n",
    "        if pc == 0:\n",
    "            res = 1 # 平\n",
    "        elif pc == 1:\n",
    "            res = 0 # 输\n",
    "        else:\n",
    "            res = 2 # 赢\n",
    "    elif you == 1:\n",
    "        if pc == 0:\n",
    "            res = 2 # 赢\n",
    "        elif pc == 1:\n",
    "            res = 1 # 平\n",
    "        else:\n",
    "            res = 0 # 输\n",
    "    else:\n",
    "        if pc == 0:\n",
    "            res = 0 # 输\n",
    "        elif pc == 1:\n",
    "            res = 2 # 赢\n",
    "        else:\n",
    "            res = 1 # 平\n",
    "    return res\n",
    "\n",
    "pc = random.randint(0, 2)\n",
    "you = int(input(prompt_text))\n",
    "res = iswin(pc, you)\n",
    "\n",
    "if res == 0:\n",
    "    print('The computer is {}. You are {}. You lose.'.format(check_tab[pc], check_tab[you]))\n",
    "elif res == 1:\n",
    "    print('The computer is {}. You are {} too. It is a draw.'.format(check_tab[pc], check_tab[you]))\n",
    "else:\n",
    "    print('The computer is {}. You are {}. You win.'.format(check_tab[pc], check_tab[you]))"
   ]
  },
  {
   "cell_type": "markdown",
   "metadata": {},
   "source": [
    "## Exe 18\n",
    "题目：（金融问题：货币兑换）编写一个程序提示用户输入美元和人民币之间的货币汇率。提示用户输入 0 表示将美元兑换为人民币，1表示将人民币兑换成美元。提示用户输入美元数或人民币数，将它们分别兑换为人民币。"
   ]
  },
  {
   "cell_type": "code",
   "execution_count": 17,
   "metadata": {},
   "outputs": [
    {
     "name": "stdout",
     "output_type": "stream",
     "text": [
      "Enter the exchange rate from dollors to RMB: 6.81\n",
      "Enter 0 to convert dollars to RMB and 1 vice versa: 1\n",
      "Enter the RMB amount: 10000\n",
      "10000 yuan is $1468.43\n"
     ]
    }
   ],
   "source": [
    "x_rate = eval(input(\"Enter the exchange rate from dollors to RMB: \"))\n",
    "mode = int(input(\"Enter 0 to convert dollars to RMB and 1 vice versa: \"))\n",
    "\n",
    "if mode == 0:\n",
    "    amount = eval(input(\"Enter the dollar amount: \"))\n",
    "    rmb = amount * x_rate\n",
    "    print(\"${} is {:.2f} yuan\".format(amount, rmb))\n",
    "else:\n",
    "    amount = eval(input(\"Enter the RMB amount: \"))\n",
    "    dollars = amount / x_rate\n",
    "    print(\"{} yuan is ${:.2f}\".format(amount, dollars))"
   ]
  },
  {
   "cell_type": "markdown",
   "metadata": {},
   "source": [
    "## Exe 19\n",
    "题目：（计算三角形周长）编写一个程序读取三角形的三个边，如果输入是合法的则计算它们的周长。"
   ]
  },
  {
   "cell_type": "code",
   "execution_count": 20,
   "metadata": {},
   "outputs": [
    {
     "name": "stdout",
     "output_type": "stream",
     "text": [
      "Enter three edges: 3, 4, 5\n",
      "Three perimeter is 12\n"
     ]
    }
   ],
   "source": [
    "def isvalid(a, b, c):\n",
    "    if a + b > c  and a + c > b and b + c > a:\n",
    "        return True\n",
    "    return False\n",
    "\n",
    "a, b, c = eval(input(\"Enter three edges: \"))\n",
    "if isvalid(a, b, c):\n",
    "    print(\"Three perimeter is {}\".format(a+b+c))\n",
    "else:\n",
    "    print(\"The input is invalid\")"
   ]
  },
  {
   "cell_type": "markdown",
   "metadata": {},
   "source": [
    "## Exe 20\n",
    "题目：（科学方面：风寒温度）编程题 2.9 给出计算风寒温度的公式。这个公式适用于温度在 $-58^{\\circ}F$ 和 $41^{\\circ}F$ 之间且风速大于等于 2.编写一个程序提示用户输入一个温度值和风速。如果输入是合法的，程序就显示风寒温度；否则，它显示一条消息表示这个温度或风速是非法的。"
   ]
  },
  {
   "cell_type": "code",
   "execution_count": 28,
   "metadata": {},
   "outputs": [
    {
     "name": "stdout",
     "output_type": "stream",
     "text": [
      "Enter the temperature in Fahrenheit between -58 and 41: -60\n",
      "Enter the wind speed in miles per hour: 10\n",
      "Error: Invalid input\n"
     ]
    }
   ],
   "source": [
    "def isvalid(temperature, wspeed):\n",
    "    if -58 < temperature < 41 and wspeed >= 2:\n",
    "        return True\n",
    "    return False\n",
    "\n",
    "temperature = eval(input(\"Enter the temperature in Fahrenheit between -58 and 41: \"))\n",
    "wspeed = eval(input(\"Enter the wind speed in miles per hour: \"))\n",
    "if not isvalid(temperature, wspeed):\n",
    "    print(\"Error: invalid input\")\n",
    "else:\n",
    "    t_wc = 35.74 + 0.6215 * temperature - 35.75 * wspeed ** 0.16 \\\n",
    "        + 0.4275 * temperature * wspeed ** 0.16\n",
    "    print(\"The wind chill index is {:.3f}\".format(t_wc))"
   ]
  },
  {
   "cell_type": "markdown",
   "metadata": {},
   "source": [
    "## Exe 21\n",
    "题目：（科学方面：一周的星期几）泽勒的一致性是一个由泽勒开发的算法，用于计算一周的星期几，这个公式是\n",
    "$$\n",
    "h = \\left (\n",
    "q + \\left \\lfloor \\frac {26 (m + 1)}{10} \\right\\rfloor + k\n",
    "    + \\left \\lfloor \\frac {k}{4} \\right\\rfloor\n",
    "    + \\left \\lfloor \\frac {j}{4} \\right\\rfloor + 5j\n",
    "\\right ) \\% 7\n",
    "$$\n",
    "* 这里的 $h$ 是指一周的星期几（0：星期六；1：星期日；2：星期一；……6：星期五）。\n",
    "* $q$ 是一个月的哪一天。\n",
    "* $m$ 是月份（3：三月，4：四月，……12:十二月）。一月和二月按照前一年的 13 月和 14 月来计数的。\n",
    "* $j$ 是世纪数，即 $\\left \\lfloor \\frac{year}{100} \\right \\rfloor\\,.$\n",
    "* $k$ 是一个世纪的某一年，即 $year \\% 100\\,.$\n",
    "编写一个程序提示用户输入一个年份、月份以及这个月的某天，然后显示它是一周的星期几。"
   ]
  },
  {
   "cell_type": "code",
   "execution_count": 32,
   "metadata": {},
   "outputs": [
    {
     "name": "stdout",
     "output_type": "stream",
     "text": [
      "Enter year: 1997\n",
      "Enter month: 3\n",
      "Enter the day of the month: 2\n",
      "Day of the week is Sunday\n"
     ]
    }
   ],
   "source": [
    "weekdays = {0: 'Saturday', 1:'Sunday', 2: 'Monday', 3: 'Tuesday', \n",
    "            4: 'Wednesday', 5: 'Thursday', 6: 'Friday'}\n",
    "\n",
    "year = int(input(\"Enter year: \"))\n",
    "month = int(input(\"Enter month: \"))\n",
    "day = int(input(\"Enter the day of the month: \"))\n",
    "\n",
    "if month < 3:\n",
    "    month += 12\n",
    "    year -= 1\n",
    "\n",
    "q = day\n",
    "j = year // 100\n",
    "k = year % 100\n",
    "m = month\n",
    "\n",
    "h = (q + 26 * (m+1) // 10 + k + k // 4 + j // 4 + 5 * j) % 7\n",
    "print('Day of the week is {}'.format(weekdays[h]))\n"
   ]
  },
  {
   "cell_type": "markdown",
   "metadata": {},
   "source": [
    "## Exe 22\n",
    "题目：（几何问题：点在圆内吗？）编写一个程序，提示用户输入一个点 $(x, y)$，然后检测这个点是否在圆心为 $(0, 0)$半径为 10 的圆内。"
   ]
  },
  {
   "cell_type": "code",
   "execution_count": 34,
   "metadata": {},
   "outputs": [
    {
     "name": "stdout",
     "output_type": "stream",
     "text": [
      "Enter a point with two coordinates: 4, 5\n",
      "Point (4, 5) is in the circle.\n"
     ]
    }
   ],
   "source": [
    "import math\n",
    "\n",
    "def dist(x, y):\n",
    "    d = math.pow(x, 2) + math.pow(y, 2)\n",
    "    d = math.sqrt(d)\n",
    "    return d\n",
    "\n",
    "x, y = eval(input(\"Enter a point with two coordinates: \"))\n",
    "d = dist(x, y)\n",
    "if d <= 10:\n",
    "    print(\"Point ({}, {}) is in the circle.\".format(x, y))\n",
    "else:\n",
    "    print(\"Point ({}, {}) is not in the circle.\".format(x, y))"
   ]
  },
  {
   "cell_type": "markdown",
   "metadata": {},
   "source": [
    "## Exe 23\n",
    "题目：（几何问题：点在矩形中吗？）编写程序提示用户输入点 $(x, y)$ ，然后检测这个点是否在以 $(0, 0)$ 为中心，宽为 5 高为 10 的矩形内。"
   ]
  },
  {
   "cell_type": "code",
   "execution_count": 37,
   "metadata": {},
   "outputs": [
    {
     "name": "stdout",
     "output_type": "stream",
     "text": [
      "Enter a point with two coordinates: 2, 5\n",
      "Point (2, 5) is not in the rectangle\n"
     ]
    }
   ],
   "source": [
    "x, y = eval(input(\"Enter a point with two coordinates: \"))\n",
    "\n",
    "if abs(x-0) < 10/2 and abs(y-0) < 5/2:\n",
    "    print('Point ({}, {}) is in the rectangle'.format(x, y))\n",
    "else:\n",
    "    print('Point ({}, {}) is not in the rectangle'.format(x, y))"
   ]
  },
  {
   "cell_type": "markdown",
   "metadata": {},
   "source": [
    "## Exe 24\n",
    "题目：（游戏：选出一张牌）编写一个程序模拟从 52 张牌中选出一张。"
   ]
  },
  {
   "cell_type": "code",
   "execution_count": 46,
   "metadata": {},
   "outputs": [
    {
     "name": "stdout",
     "output_type": "stream",
     "text": [
      "The card you picked is the King of ♣Club\n"
     ]
    }
   ],
   "source": [
    "import random\n",
    "pokers = {0 :'Ace', 1 : '2',  2 : '3',     3 : '4',\n",
    "         4 : '5',  5 : '6',  6 : '7',     7 : '8',\n",
    "         8 : '9',  9 : '10', 10 : 'Jack', 11 :'Queen', \n",
    "         12 : 'King'}\n",
    "\n",
    "suits = {0 : '♠Spade', 1 : '♥Heart', 2 : '♦Diamond', 3 : '♣Club'}\n",
    "\n",
    "n = random.randrange(52)\n",
    "p = n // 4\n",
    "s = n % 4\n",
    "print('The card you picked is the {} of {}'.format(pokers[p], suits[s]))"
   ]
  },
  {
   "cell_type": "markdown",
   "metadata": {},
   "source": [
    "## Exe 25\n",
    "题目：（几何问题：交点）两条线的交点可以通过解下面的线性等式找出：\n",
    "$$\n",
    "(y_1 - y_2)x - (x_1 - x_2)y = (y_1 - y_2)x_1 - (x_1 - x_2)y_1 \\\\\n",
    "(y_3 - y_4)x - (x_3 - x_4)y = (y_3 - y_4)x_3 - (x_3 - x_4)y_3\n",
    "$$\n",
    "编写程序提示用户输入四个点，然后显示交点。"
   ]
  },
  {
   "cell_type": "code",
   "execution_count": 54,
   "metadata": {},
   "outputs": [
    {
     "name": "stdout",
     "output_type": "stream",
     "text": [
      "Enter x1, y1: 2, 2\n",
      "Enter x2, y2: 5, -1\n",
      "Enter x3, y3: 4, 2\n",
      "Enter x4, y4: -1, -2\n",
      "The intersecting poing is at (2.889, 1.111)\n"
     ]
    }
   ],
   "source": [
    "x1, y1 = eval(input(\"Enter x1, y1: \"))\n",
    "x2, y2 = eval(input(\"Enter x2, y2: \"))\n",
    "x3, y3 = eval(input(\"Enter x3, y3: \"))\n",
    "x4, y4 = eval(input(\"Enter x4, y4: \"))\n",
    "\n",
    "a = y1 - y2\n",
    "b = x2 - x1\n",
    "c = y3 - y4\n",
    "d = x4 - x3\n",
    "e = (y1 - y2) * x1 - (x1 - x2) * y1\n",
    "f = (y3 - y4) * x3 - (x3 - x4) * y3\n",
    "\n",
    "delta = a * d - b * c\n",
    "if delta == 0:\n",
    "    print(\"The two lines are parallel.\")\n",
    "else:\n",
    "    x = (e * d - b * f) / delta\n",
    "    y = (a * f - e * c) / delta\n",
    "    print(\"The intersecting poing is at ({:.3f}, {:.3f})\".format(x, y))"
   ]
  },
  {
   "cell_type": "markdown",
   "metadata": {},
   "source": [
    "## Exe 26\n",
    "题目：（回文数）编写一个程序提示用户输入一个三位整数，然后判断它是否是一个回文数。"
   ]
  },
  {
   "cell_type": "code",
   "execution_count": 49,
   "metadata": {},
   "outputs": [
    {
     "name": "stdout",
     "output_type": "stream",
     "text": [
      "Enter a three-digit integer: 121\n",
      "121 is a palidrome.\n"
     ]
    }
   ],
   "source": [
    "num = eval(input(\"Enter a three-digit integer: \"))\n",
    "dig1 = num % 10\n",
    "dig3 = num // 100\n",
    "if dig1 == dig3:\n",
    "    print(\"{} is a palidrome.\".format(num))\n",
    "else:\n",
    "    print(\"{} is not a palidrome.\".format(num))"
   ]
  },
  {
   "cell_type": "markdown",
   "metadata": {},
   "source": [
    "## Exe 27\n",
    "题目：（几何问题：点在三角形内吗？）假设一个直角三角形被放在一个水平面上，直角点在圆点而另外两个点在 $(200, 0)$ 和 $(0, 100)$ 处。编写程序提示用户输入一个坐标点，判断该点是否在三角形内。"
   ]
  },
  {
   "cell_type": "code",
   "execution_count": 57,
   "metadata": {},
   "outputs": [
    {
     "name": "stdout",
     "output_type": "stream",
     "text": [
      "Enter a point's x- and y-coordinates: 100.5, 50.5\n",
      "The point is not in the triangle.\n"
     ]
    }
   ],
   "source": [
    "x, y = eval(input(\"Enter a point's x- and y-coordinates: \"))\n",
    "\n",
    "if x < 0 or y < 0:\n",
    "    print(\"The point is not in the triangle.\")\n",
    "else:\n",
    "    if y + x * 0.5 > 100:\n",
    "        print(\"The point is not in the triangle.\")\n",
    "    else:\n",
    "        print(\"The point is in the triangle.\")"
   ]
  },
  {
   "cell_type": "markdown",
   "metadata": {},
   "source": [
    "## Exe 28\n",
    "题目：（几何问题：两个矩形）编写程序提示用户输入两个矩形中心的 x 和 y 坐标以及它们的长和宽，然后判断第二个矩形在第一个矩形内部、有部分重叠还是不相交。"
   ]
  },
  {
   "cell_type": "code",
   "execution_count": 5,
   "metadata": {},
   "outputs": [
    {
     "name": "stdout",
     "output_type": "stream",
     "text": [
      "Enter r1's center x-, y-coordinates: 2.5,4\n",
      "and r1's width and height: 2.5,43\n",
      "Enter r2's center x-, y-coordinates: 1.5,5\n",
      "and r2's width and height: 0.5,3\n",
      "r2 is in r1.\n"
     ]
    }
   ],
   "source": [
    "x1, y1 = eval(input(\"Enter r1's center x-, y-coordinates: \"))\n",
    "w1, h1 = eval(input(\"and r1's width and height: \"))\n",
    "x2, y2 = eval(input(\"Enter r2's center x-, y-coordinates: \"))\n",
    "w2, h2 = eval(input(\"and r2's width and height: \"))\n",
    "\n",
    "if abs(x1 - x2) > (w1 + w2) / 2 \\\n",
    "    or abs(y1 - y2) > (h1 + h2) / 2:\n",
    "    print(\"r2 does not overlap r1.\")\n",
    "elif abs(x1 - x2) <= (w1 - w2) / 2 \\\n",
    "    and abs(y1 - y2) <= (h1 - h2) / 2:\n",
    "    print(\"r2 is in r1.\")\n",
    "else:\n",
    "    print(\"r2 overlaps r1.\")"
   ]
  },
  {
   "cell_type": "markdown",
   "metadata": {},
   "source": [
    "## Exe 29\n",
    "题目：（几何问题：两个圆）编写程序提示用户输入两个圆的中心的坐标以及它们的半径，然后判断第二个圆是在圆内还是和第一个圆有重叠部分。"
   ]
  },
  {
   "cell_type": "code",
   "execution_count": 8,
   "metadata": {},
   "outputs": [
    {
     "name": "stdout",
     "output_type": "stream",
     "text": [
      "Enter circle's center x-, y-coordinates, and radius: 4.4,5.5,1\n",
      "Enter circle's center x-, y-coordinates, and radius: 5.5,7.2,1\n",
      "circle2 does not overlap circle1.\n"
     ]
    }
   ],
   "source": [
    "import math\n",
    "\n",
    "x1, y1, r1 = eval(input(\"Enter circle's center x-, y-coordinates, and radius: \"))\n",
    "x2, y2, r2 = eval(input(\"Enter circle's center x-, y-coordinates, and radius: \"))\n",
    "\n",
    "dist = math.sqrt((x1 - x2) ** 2 + (y1 - y2) ** 2)\n",
    "\n",
    "if dist > r1 + r2:\n",
    "    print(\"circle2 does not overlap circle1.\")\n",
    "elif dist <= r1 - r2:\n",
    "    print(\"circle2 is inside circle1.\")\n",
    "else:\n",
    "    print(\"circle2 overlaps circle1.\")"
   ]
  },
  {
   "cell_type": "markdown",
   "metadata": {},
   "source": [
    "## Exe 30\n",
    "题目：（当前时间）使用 12 小时的时钟修改编程题 2.18 来显示小时数。"
   ]
  },
  {
   "cell_type": "code",
   "execution_count": 31,
   "metadata": {},
   "outputs": [
    {
     "name": "stdout",
     "output_type": "stream",
     "text": [
      "Enter the time zone offset to GMT: 1\n",
      "The current time is 01:57:07 P.M.\n"
     ]
    }
   ],
   "source": [
    "import time\n",
    "tz = eval(input(\"Enter the time zone offset to GMT: \"))\n",
    "t = int(time.time())\n",
    "seconds = t % 60\n",
    "t //= 60\n",
    "minutes = t % 60\n",
    "t //= 60\n",
    "hours = (t + tz) % 24\n",
    "a = \"A.M.\"\n",
    "if hours // 12 == 1:\n",
    "    a = \"P.M.\"\n",
    "hours %= 12\n",
    "if hours == 0 and a == 'P.M.':\n",
    "    hours = 12\n",
    "print(\"The current time is {:0>2d}:{:0>2d}:{:0>2d} {}\".format(hours, minutes, seconds, a))"
   ]
  },
  {
   "cell_type": "markdown",
   "metadata": {},
   "source": [
    "## Exe 31\n",
    "题目：（几何问题：点的位置）假设有一个从点 $p_0(x_0, y_0)$ 到 $p_1(x_1, y_1)$ 的直线，你可以使用下面的公式判断点 $p_2(x_2, y_2)$ 与这条线的相对位置。\n",
    "$$\n",
    "(x_1 - x_0) \\times (y_2 - y_0) - (x_2 - x_0) \\times (y_1 - y_0) \\left\\{ \\begin{array}{l}\n",
    "\\gt 0 \\quad p_2 在线的左边 \\\\\n",
    "  = 0 \\quad p_2 在线的右边\\\\\n",
    "\\lt 0 \\quad p_2 在同一条线上\n",
    "\\end{array} \\right.\n",
    "$$\n",
    "编写程序提示用户输入$p_0$、$p_1$ 和 $p_2$的坐标，然后显示 $p_2$ 与直线的位置关系。"
   ]
  },
  {
   "cell_type": "code",
   "execution_count": 4,
   "metadata": {},
   "outputs": [
    {
     "name": "stdout",
     "output_type": "stream",
     "text": [
      "Enter coordinates for point p0: 3,4\n",
      "Enter coordinates for point p1: 2,6.5\n",
      "Enter coordinates for point p2: 5,2.5\n",
      "p2 is on the right side of line from p0 to p1.\n"
     ]
    }
   ],
   "source": [
    "def getval(x0, y0, x1, y1, x2, y2):\n",
    "    val = (x1 - x0) * (y2 - y0) - (x2 - x0) * (y1 - y0)\n",
    "    return val\n",
    "\n",
    "x0, y0 = eval(input(\"Enter coordinates for point p0: \"))\n",
    "x1, y1 = eval(input(\"Enter coordinates for point p1: \"))\n",
    "x2, y2 = eval(input(\"Enter coordinates for point p2: \"))\n",
    "\n",
    "val = getval(x0, y0, x1, y1, x2, y2)\n",
    "\n",
    "if val > 0:\n",
    "    print(\"p2 is on the left side of line from p0 to p1.\")\n",
    "elif val < 0:\n",
    "    print(\"p2 is on the right side of line from p0 to p1.\")\n",
    "else:\n",
    "    print(\"p2 is on the same line from p0 to p1.\")"
   ]
  },
  {
   "cell_type": "markdown",
   "metadata": {},
   "source": [
    "## Exe 32\n",
    "题目：（几何问题：线段上的点）上一道题显示如何在一个点是否在在一个无界的行上。修改该题，来测试一个点是否在一个线段上。编写程序提示用户输入三个点 $p_0$ 、$p_1$ 和 $p_2$ 的坐标，然后显示 $p_2$ 是否在从 $p_0$到 $p_1$ 的线段。"
   ]
  },
  {
   "cell_type": "code",
   "execution_count": 7,
   "metadata": {},
   "outputs": [
    {
     "name": "stdout",
     "output_type": "stream",
     "text": [
      "Enter coordinates for point p0: 1, 1\n",
      "Enter coordinates for point p1: 2,2\n",
      "Enter coordinates for point p2: 3, 1\n",
      "(3, 1) is not on the line segment from (1, 1) to (2, 2)\n"
     ]
    }
   ],
   "source": [
    "def getval(x0, y0, x1, y1, x2, y2):\n",
    "    val = (x1 - x0) * (y2 - y0) - (x2 - x0) * (y1 - y0)\n",
    "    return val\n",
    "\n",
    "x0, y0 = eval(input(\"Enter coordinates for point p0: \"))\n",
    "x1, y1 = eval(input(\"Enter coordinates for point p1: \"))\n",
    "x2, y2 = eval(input(\"Enter coordinates for point p2: \"))\n",
    "\n",
    "val = getval(x0, y0, x1, y1, x2, y2)\n",
    "if val == 0:\n",
    "    print(\n",
    "        \"({}, {}) is on the line segment from ({}, {}) to ({}, {})\".format(\n",
    "        x2, y2, x0, y0, x1, y1))\n",
    "else:\n",
    "    print(\n",
    "        \"({}, {}) is not on the line segment from ({}, {}) to ({}, {})\".format(\n",
    "        x2, y2, x0, y0, x1, y1))"
   ]
  },
  {
   "cell_type": "markdown",
   "metadata": {},
   "source": [
    "## Exe 33\n",
    "题目：（十进制转十六进制）编写一个程序提示用户输入一个 0 到 15 之间的整数，然后显示它对应的十六进制。"
   ]
  },
  {
   "cell_type": "code",
   "execution_count": 8,
   "metadata": {},
   "outputs": [
    {
     "name": "stdout",
     "output_type": "stream",
     "text": [
      "Enter a decimal value (0 to 15): 12\n",
      "The hex value is C\n"
     ]
    }
   ],
   "source": [
    "chk_tab = {0: '0', 1: '1', 2: '2', 3: '3',\n",
    "           4: '4', 5: '5', 6: '6', 7: '7',\n",
    "           8: '8', 9: '9', 10:'A', 11:'B',\n",
    "           12:'C', 13:'D', 14:'E', 15:'F'}\n",
    "num = int(input(\"Enter a decimal value (0 to 15): \"))\n",
    "print(\"The hex value is {}\".format(chk_tab[num]))"
   ]
  },
  {
   "cell_type": "markdown",
   "metadata": {},
   "source": [
    "## Exe 34\n",
    "题目：（十六进制转十进制）编写一个程序提示用户输入一个十六进制的字符，然后显示它对应的十进制整数。"
   ]
  },
  {
   "cell_type": "code",
   "execution_count": 12,
   "metadata": {},
   "outputs": [
    {
     "name": "stdout",
     "output_type": "stream",
     "text": [
      "Enter a hex character: A\n",
      "The decimal is 10\n"
     ]
    }
   ],
   "source": [
    "chk_tab = {'0': 0, '1': 1, '2': 2, '3': 3,\n",
    "           '4': 4, '5': 5, '6': 6, '7': 7,\n",
    "           '8': 8, '9': 9, 'A':10, 'B':11,\n",
    "           'C':12, 'D':13, 'E':14, 'F':15,\n",
    "           'a':10, 'b':11, 'c':12, 'd':13,\n",
    "           'e':14, 'f':15}\n",
    "h = input(\"Enter a hex character: \")\n",
    "try:\n",
    "    print(\"The decimal is {}\".format(chk_tab[h]))\n",
    "except KeyError:\n",
    "    print(\"Error: invalid input\")"
   ]
  },
  {
   "cell_type": "markdown",
   "metadata": {},
   "source": [
    "## Exe 35\n",
    "题目：（Turtle：点的位置）编写一个程序提示用户输入三个点 $p_0$ 、$p_1$ 和 $p_2$ 的坐标，然后显示 $p_2$ 与线段的位置关系。\n",
    "``` python\n",
    "import turtle as t\n",
    "\n",
    "def getval(x0, y0, x1, y1, x2, y2):\n",
    "    val = (x1 - x0) * (y2 - y0) - (x2 - x0) * (y1 - y0)\n",
    "    return val\n",
    "\n",
    "x0, y0 = eval(input(\"Enter coordinates for point p0: \"))\n",
    "x1, y1 = eval(input(\"Enter coordinates for point p1: \"))\n",
    "x2, y2 = eval(input(\"Enter coordinates for point p2: \"))\n",
    "\n",
    "val = getval(x0, y0, x1, y1, x2, y2)\n",
    "text = None\n",
    "if val > 0:\n",
    "    text = \"p2 is on the left side of the line\"\n",
    "elif val < 0:\n",
    "    text = \"p2 is on the right side of the line\"\n",
    "else:\n",
    "    text = \"p2 is on the same line\"\n",
    "\n",
    "font = (\"Times\", 11)\n",
    "\n",
    "t.screensize(1920, 1080)\n",
    "t.penup()\n",
    "t.goto(x0, y0)\n",
    "t.pendown()\n",
    "t.write('p0 ({}, {})'.format(x0, y0), font=font)\n",
    "t.goto(x1, y1)\n",
    "t.write('p1 ({}, {})'.format(x1, y1), font=font)\n",
    "t.penup()\n",
    "t.goto(x2, y2)\n",
    "t.dot(5)\n",
    "t.write('p2 ({}, {})'.format(x2, y2), font=font)\n",
    "t.setheading(-90)\n",
    "t.forward(20)\n",
    "t.right(90)\n",
    "t.forward(70)\n",
    "t.write(text, font=font)\n",
    "t.hideturtle()\n",
    "\n",
    "t.done()\n",
    "```"
   ]
  },
  {
   "cell_type": "markdown",
   "metadata": {},
   "source": [
    "## Exe 36\n",
    "题目：（点在矩形内吗？）编写一个程序提示用户输入点 $(x, y)$，然后检测该点是否在以 $(0, 0)$ 为中心，宽 100 高 50 的矩形内。在屏幕上显示这个点。\n",
    "\n",
    "``` python\n",
    "import turtle as t\n",
    "\n",
    "x, y = eval(input(\"Enter a point with two coordinates: \"))\n",
    "\n",
    "text = None\n",
    "\n",
    "if abs(x-0) <= 100/2 and abs(y-0) <= 50/2:\n",
    "    text = 'Point ({}, {}) is in the rectangle'.format(x, y)\n",
    "else:\n",
    "    text = 'Point ({}, {}) is not in the rectangle'.format(x, y)\n",
    "\n",
    "font = (\"Times\", 11)\n",
    "\n",
    "t.screensize(1920, 1080)\n",
    "t.penup()\n",
    "t.goto(100/2, 50/2)\n",
    "t.pendown()\n",
    "for i in range(2):\n",
    "    t.right(90)\n",
    "    t.forward(50)\n",
    "    t.right(90)\n",
    "    t.forward(100)\n",
    "t.penup()\n",
    "t.goto(x, y)\n",
    "t.dot(6)\n",
    "t.goto(-90, -50)\n",
    "t.write(text, font=font)\n",
    "t.hideturtle()\n",
    "t.done()\n",
    "```"
   ]
  },
  {
   "cell_type": "markdown",
   "metadata": {},
   "source": [
    "## Exe 38\n",
    "题目：（几何问题：两个矩形）提示用户输入两个矩形的中心坐标、宽和高，然后决定第二个矩形是在第一个矩形内部还是有重叠还是不相交。\n",
    "``` python\n",
    "import turtle as t\n",
    "\n",
    "x1, y1 = eval(input(\"Enter r1's center x-, y-coordinates: \"))\n",
    "w1, h1 = eval(input(\"and r1's width and height: \"))\n",
    "x2, y2 = eval(input(\"Enter r2's center x-, y-coordinates: \"))\n",
    "w2, h2 = eval(input(\"and r2's width and height: \"))\n",
    "\n",
    "text = None\n",
    "if abs(x1 - x2) >= (w1 + w2) / 2 \\\n",
    "    or abs(y1 - y2) >= (h1 + h2) / 2:\n",
    "    text = \"r2 does not overlap r1.\"\n",
    "elif abs(x1 - x2) <= (w1 - w2) / 2 \\\n",
    "    and abs(y1 - y2) <= (h1 - h2) / 2:\n",
    "    text = \"r2 is in r1.\"\n",
    "else:\n",
    "    text = \"r2 overlaps r1.\"\n",
    "\n",
    "font = (\"Times\", 11)\n",
    "t.screensize(1920, 1080)\n",
    "\n",
    "t.penup()\n",
    "t.goto(x1 + w1/2, y1 + h1/2)\n",
    "t.pendown()\n",
    "for i in range(4):\n",
    "    t.right(90)\n",
    "    t.forward(h1 if i % 2 == 0 else w1)\n",
    "\n",
    "t.penup()\n",
    "t.goto(x2 + w2/2, y2+h2/2)\n",
    "t.pendown()\n",
    "for i in range(4):\n",
    "    t.right(90)\n",
    "    t.forward(h2 if i % 2 == 0 else w2)\n",
    "\n",
    "t.penup()\n",
    "t.goto(200, 200)\n",
    "\n",
    "t.write(text, font=font)\n",
    "\n",
    "t.hideturtle()\n",
    "t.done()\n",
    "```"
   ]
  },
  {
   "cell_type": "markdown",
   "metadata": {},
   "source": [
    "## Exe 39\n",
    "题目：（Turtle：两个圆）编写程序提示用户输入两个圆的圆心坐标和半径，然后确定第二个圆与第一个圆的位置关系。\n",
    "\n",
    "``` python\n",
    "import turtle as t\n",
    "import math\n",
    "\n",
    "# x1, y1, r1 = eval(input(\"Enter circle's center x-, y-coordinates, and radius: \"))\n",
    "# x2, y2, r2 = eval(input(\"Enter circle's center x-, y-coordinates, and radius: \"))\n",
    "x1, y1, r1 = 45, 55, 100\n",
    "x2, y2, r2 = 77, 72, 50\n",
    "\n",
    "dist = math.sqrt((x1 - x2) ** 2 + (y1 - y2) ** 2)\n",
    "print(dist)\n",
    "text = None\n",
    "if dist >= r1 + r2:\n",
    "    text = \"circle2 does not overlap circle1.\"\n",
    "elif dist <= r1 - r2:\n",
    "    text = \"circle2 is inside circle1.\"\n",
    "else:\n",
    "    text = \"circle2 overlaps circle1.\"\n",
    "\n",
    "font = (\"Times\", 11)\n",
    "t.screensize(1920, 1080)\n",
    "\n",
    "t.penup()\n",
    "t.goto(x1, y1-r1)\n",
    "t.pendown()\n",
    "t.circle(r1)\n",
    "\n",
    "t.penup()\n",
    "t.goto(x2, y2-r2)\n",
    "t.pendown()\n",
    "t.circle(r2)\n",
    "\n",
    "t.penup()\n",
    "t.goto(200, 200)\n",
    "t.write(text, font=font)\n",
    "t.hideturtle()\n",
    "t.done()\n",
    "```"
   ]
  }
 ],
 "metadata": {
  "kernelspec": {
   "display_name": "Python 3",
   "language": "python",
   "name": "python3"
  },
  "language_info": {
   "codemirror_mode": {
    "name": "ipython",
    "version": 3
   },
   "file_extension": ".py",
   "mimetype": "text/x-python",
   "name": "python",
   "nbconvert_exporter": "python",
   "pygments_lexer": "ipython3",
   "version": "3.7.3"
  }
 },
 "nbformat": 4,
 "nbformat_minor": 2
}
